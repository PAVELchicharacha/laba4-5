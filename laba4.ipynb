{
 "cells": [
  {
   "cell_type": "code",
   "id": "initial_id",
   "metadata": {
    "collapsed": true,
    "ExecuteTime": {
     "end_time": "2024-12-04T15:02:15.394965Z",
     "start_time": "2024-12-04T15:02:15.188488Z"
    }
   },
   "source": [
    "from datetime import datetime\n",
    "\n",
    "import numpy as np\n",
    "import pandas as pd\n",
    "import openpyxl as op\n",
    "from datetime import datetime\n"
   ],
   "outputs": [],
   "execution_count": 43
  },
  {
   "metadata": {
    "ExecuteTime": {
     "end_time": "2024-12-04T15:02:15.411732Z",
     "start_time": "2024-12-04T15:02:15.400941Z"
    }
   },
   "cell_type": "code",
   "source": [
    "df=pd.read_excel('lab4.xlsx')\n",
    "df"
   ],
   "id": "be1747361fbe001b",
   "outputs": [
    {
     "data": {
      "text/plain": [
       "   number              Fio  birthDate  Month\n",
       "0       1       Пупкин В.Ф 2022-05-10    NaN\n",
       "1       2      Гренкин А.В 2023-05-11    NaN\n",
       "2       3     Кукарево П.О 2024-06-12    NaN\n",
       "3       4      Виндовс О.С 2017-01-15    NaN\n",
       "4       5       Давкан Н.С 2018-04-16    NaN\n",
       "5       6     Кириешка Н.Н 2020-05-17    NaN\n",
       "6       7       Ловкий К.Р 2012-12-20    NaN\n",
       "7       8       Физрук А.Г 2015-05-16    NaN\n",
       "8       9        Абвгд Е.Ё 2005-01-10    NaN\n",
       "9      10  Первыйкласс А.Р 2004-01-10    NaN"
      ],
      "text/html": [
       "<div>\n",
       "<style scoped>\n",
       "    .dataframe tbody tr th:only-of-type {\n",
       "        vertical-align: middle;\n",
       "    }\n",
       "\n",
       "    .dataframe tbody tr th {\n",
       "        vertical-align: top;\n",
       "    }\n",
       "\n",
       "    .dataframe thead th {\n",
       "        text-align: right;\n",
       "    }\n",
       "</style>\n",
       "<table border=\"1\" class=\"dataframe\">\n",
       "  <thead>\n",
       "    <tr style=\"text-align: right;\">\n",
       "      <th></th>\n",
       "      <th>number</th>\n",
       "      <th>Fio</th>\n",
       "      <th>birthDate</th>\n",
       "      <th>Month</th>\n",
       "    </tr>\n",
       "  </thead>\n",
       "  <tbody>\n",
       "    <tr>\n",
       "      <th>0</th>\n",
       "      <td>1</td>\n",
       "      <td>Пупкин В.Ф</td>\n",
       "      <td>2022-05-10</td>\n",
       "      <td>NaN</td>\n",
       "    </tr>\n",
       "    <tr>\n",
       "      <th>1</th>\n",
       "      <td>2</td>\n",
       "      <td>Гренкин А.В</td>\n",
       "      <td>2023-05-11</td>\n",
       "      <td>NaN</td>\n",
       "    </tr>\n",
       "    <tr>\n",
       "      <th>2</th>\n",
       "      <td>3</td>\n",
       "      <td>Кукарево П.О</td>\n",
       "      <td>2024-06-12</td>\n",
       "      <td>NaN</td>\n",
       "    </tr>\n",
       "    <tr>\n",
       "      <th>3</th>\n",
       "      <td>4</td>\n",
       "      <td>Виндовс О.С</td>\n",
       "      <td>2017-01-15</td>\n",
       "      <td>NaN</td>\n",
       "    </tr>\n",
       "    <tr>\n",
       "      <th>4</th>\n",
       "      <td>5</td>\n",
       "      <td>Давкан Н.С</td>\n",
       "      <td>2018-04-16</td>\n",
       "      <td>NaN</td>\n",
       "    </tr>\n",
       "    <tr>\n",
       "      <th>5</th>\n",
       "      <td>6</td>\n",
       "      <td>Кириешка Н.Н</td>\n",
       "      <td>2020-05-17</td>\n",
       "      <td>NaN</td>\n",
       "    </tr>\n",
       "    <tr>\n",
       "      <th>6</th>\n",
       "      <td>7</td>\n",
       "      <td>Ловкий К.Р</td>\n",
       "      <td>2012-12-20</td>\n",
       "      <td>NaN</td>\n",
       "    </tr>\n",
       "    <tr>\n",
       "      <th>7</th>\n",
       "      <td>8</td>\n",
       "      <td>Физрук А.Г</td>\n",
       "      <td>2015-05-16</td>\n",
       "      <td>NaN</td>\n",
       "    </tr>\n",
       "    <tr>\n",
       "      <th>8</th>\n",
       "      <td>9</td>\n",
       "      <td>Абвгд Е.Ё</td>\n",
       "      <td>2005-01-10</td>\n",
       "      <td>NaN</td>\n",
       "    </tr>\n",
       "    <tr>\n",
       "      <th>9</th>\n",
       "      <td>10</td>\n",
       "      <td>Первыйкласс А.Р</td>\n",
       "      <td>2004-01-10</td>\n",
       "      <td>NaN</td>\n",
       "    </tr>\n",
       "  </tbody>\n",
       "</table>\n",
       "</div>"
      ]
     },
     "execution_count": 44,
     "metadata": {},
     "output_type": "execute_result"
    }
   ],
   "execution_count": 44
  },
  {
   "metadata": {
    "ExecuteTime": {
     "end_time": "2024-12-04T15:02:15.439454Z",
     "start_time": "2024-12-04T15:02:15.436393Z"
    }
   },
   "cell_type": "code",
   "source": [
    "def calculate_age(birth_date):\n",
    "    today = datetime.now()\n",
    "    age = today.year - birth_date.year\n",
    "    \n",
    "    if (today.month, today.day) < (birth_date.month, birth_date.day):\n",
    "        age -= 1\n",
    "        \n",
    "    return age"
   ],
   "id": "b813ea2d29f0ed4",
   "outputs": [],
   "execution_count": 45
  },
  {
   "metadata": {
    "ExecuteTime": {
     "end_time": "2024-12-04T15:02:15.487137Z",
     "start_time": "2024-12-04T15:02:15.472217Z"
    }
   },
   "cell_type": "code",
   "source": [
    "df['age']=df['birthDate'].apply(lambda x:calculate_age(x))\n",
    "df.to_excel('обновленный_файл.xlsx', index=False)\n",
    "df"
   ],
   "id": "a997b9a15885de16",
   "outputs": [
    {
     "data": {
      "text/plain": [
       "   number              Fio  birthDate  Month  age\n",
       "0       1       Пупкин В.Ф 2022-05-10    NaN    2\n",
       "1       2      Гренкин А.В 2023-05-11    NaN    1\n",
       "2       3     Кукарево П.О 2024-06-12    NaN    0\n",
       "3       4      Виндовс О.С 2017-01-15    NaN    7\n",
       "4       5       Давкан Н.С 2018-04-16    NaN    6\n",
       "5       6     Кириешка Н.Н 2020-05-17    NaN    4\n",
       "6       7       Ловкий К.Р 2012-12-20    NaN   11\n",
       "7       8       Физрук А.Г 2015-05-16    NaN    9\n",
       "8       9        Абвгд Е.Ё 2005-01-10    NaN   19\n",
       "9      10  Первыйкласс А.Р 2004-01-10    NaN   20"
      ],
      "text/html": [
       "<div>\n",
       "<style scoped>\n",
       "    .dataframe tbody tr th:only-of-type {\n",
       "        vertical-align: middle;\n",
       "    }\n",
       "\n",
       "    .dataframe tbody tr th {\n",
       "        vertical-align: top;\n",
       "    }\n",
       "\n",
       "    .dataframe thead th {\n",
       "        text-align: right;\n",
       "    }\n",
       "</style>\n",
       "<table border=\"1\" class=\"dataframe\">\n",
       "  <thead>\n",
       "    <tr style=\"text-align: right;\">\n",
       "      <th></th>\n",
       "      <th>number</th>\n",
       "      <th>Fio</th>\n",
       "      <th>birthDate</th>\n",
       "      <th>Month</th>\n",
       "      <th>age</th>\n",
       "    </tr>\n",
       "  </thead>\n",
       "  <tbody>\n",
       "    <tr>\n",
       "      <th>0</th>\n",
       "      <td>1</td>\n",
       "      <td>Пупкин В.Ф</td>\n",
       "      <td>2022-05-10</td>\n",
       "      <td>NaN</td>\n",
       "      <td>2</td>\n",
       "    </tr>\n",
       "    <tr>\n",
       "      <th>1</th>\n",
       "      <td>2</td>\n",
       "      <td>Гренкин А.В</td>\n",
       "      <td>2023-05-11</td>\n",
       "      <td>NaN</td>\n",
       "      <td>1</td>\n",
       "    </tr>\n",
       "    <tr>\n",
       "      <th>2</th>\n",
       "      <td>3</td>\n",
       "      <td>Кукарево П.О</td>\n",
       "      <td>2024-06-12</td>\n",
       "      <td>NaN</td>\n",
       "      <td>0</td>\n",
       "    </tr>\n",
       "    <tr>\n",
       "      <th>3</th>\n",
       "      <td>4</td>\n",
       "      <td>Виндовс О.С</td>\n",
       "      <td>2017-01-15</td>\n",
       "      <td>NaN</td>\n",
       "      <td>7</td>\n",
       "    </tr>\n",
       "    <tr>\n",
       "      <th>4</th>\n",
       "      <td>5</td>\n",
       "      <td>Давкан Н.С</td>\n",
       "      <td>2018-04-16</td>\n",
       "      <td>NaN</td>\n",
       "      <td>6</td>\n",
       "    </tr>\n",
       "    <tr>\n",
       "      <th>5</th>\n",
       "      <td>6</td>\n",
       "      <td>Кириешка Н.Н</td>\n",
       "      <td>2020-05-17</td>\n",
       "      <td>NaN</td>\n",
       "      <td>4</td>\n",
       "    </tr>\n",
       "    <tr>\n",
       "      <th>6</th>\n",
       "      <td>7</td>\n",
       "      <td>Ловкий К.Р</td>\n",
       "      <td>2012-12-20</td>\n",
       "      <td>NaN</td>\n",
       "      <td>11</td>\n",
       "    </tr>\n",
       "    <tr>\n",
       "      <th>7</th>\n",
       "      <td>8</td>\n",
       "      <td>Физрук А.Г</td>\n",
       "      <td>2015-05-16</td>\n",
       "      <td>NaN</td>\n",
       "      <td>9</td>\n",
       "    </tr>\n",
       "    <tr>\n",
       "      <th>8</th>\n",
       "      <td>9</td>\n",
       "      <td>Абвгд Е.Ё</td>\n",
       "      <td>2005-01-10</td>\n",
       "      <td>NaN</td>\n",
       "      <td>19</td>\n",
       "    </tr>\n",
       "    <tr>\n",
       "      <th>9</th>\n",
       "      <td>10</td>\n",
       "      <td>Первыйкласс А.Р</td>\n",
       "      <td>2004-01-10</td>\n",
       "      <td>NaN</td>\n",
       "      <td>20</td>\n",
       "    </tr>\n",
       "  </tbody>\n",
       "</table>\n",
       "</div>"
      ]
     },
     "execution_count": 46,
     "metadata": {},
     "output_type": "execute_result"
    }
   ],
   "execution_count": 46
  },
  {
   "metadata": {
    "ExecuteTime": {
     "end_time": "2024-12-04T15:02:15.536795Z",
     "start_time": "2024-12-04T15:02:15.533732Z"
    }
   },
   "cell_type": "code",
   "source": [
    "posobie = 30000\n",
    "def calculate_posobie(vozrast):\n",
    "    if vozrast < 3:\n",
    "        return posobie * 1.0\n",
    "    elif vozrast < 8:\n",
    "        return posobie * 0.8\n",
    "    elif vozrast <= 17:\n",
    "        return posobie * 0.6\n",
    "    else:\n",
    "        return 0\n",
    "    "
   ],
   "id": "973ef8cda0527b27",
   "outputs": [],
   "execution_count": 47
  },
  {
   "metadata": {
    "ExecuteTime": {
     "end_time": "2024-12-04T15:02:15.577883Z",
     "start_time": "2024-12-04T15:02:15.571658Z"
    }
   },
   "cell_type": "code",
   "source": [
    "df['posobie'] = df['age'].apply(calculate_posobie)\n",
    "df"
   ],
   "id": "3049b6ab3cae260b",
   "outputs": [
    {
     "data": {
      "text/plain": [
       "   number              Fio  birthDate  Month  age  posobie\n",
       "0       1       Пупкин В.Ф 2022-05-10    NaN    2  30000.0\n",
       "1       2      Гренкин А.В 2023-05-11    NaN    1  30000.0\n",
       "2       3     Кукарево П.О 2024-06-12    NaN    0  30000.0\n",
       "3       4      Виндовс О.С 2017-01-15    NaN    7  24000.0\n",
       "4       5       Давкан Н.С 2018-04-16    NaN    6  24000.0\n",
       "5       6     Кириешка Н.Н 2020-05-17    NaN    4  24000.0\n",
       "6       7       Ловкий К.Р 2012-12-20    NaN   11  18000.0\n",
       "7       8       Физрук А.Г 2015-05-16    NaN    9  18000.0\n",
       "8       9        Абвгд Е.Ё 2005-01-10    NaN   19      0.0\n",
       "9      10  Первыйкласс А.Р 2004-01-10    NaN   20      0.0"
      ],
      "text/html": [
       "<div>\n",
       "<style scoped>\n",
       "    .dataframe tbody tr th:only-of-type {\n",
       "        vertical-align: middle;\n",
       "    }\n",
       "\n",
       "    .dataframe tbody tr th {\n",
       "        vertical-align: top;\n",
       "    }\n",
       "\n",
       "    .dataframe thead th {\n",
       "        text-align: right;\n",
       "    }\n",
       "</style>\n",
       "<table border=\"1\" class=\"dataframe\">\n",
       "  <thead>\n",
       "    <tr style=\"text-align: right;\">\n",
       "      <th></th>\n",
       "      <th>number</th>\n",
       "      <th>Fio</th>\n",
       "      <th>birthDate</th>\n",
       "      <th>Month</th>\n",
       "      <th>age</th>\n",
       "      <th>posobie</th>\n",
       "    </tr>\n",
       "  </thead>\n",
       "  <tbody>\n",
       "    <tr>\n",
       "      <th>0</th>\n",
       "      <td>1</td>\n",
       "      <td>Пупкин В.Ф</td>\n",
       "      <td>2022-05-10</td>\n",
       "      <td>NaN</td>\n",
       "      <td>2</td>\n",
       "      <td>30000.0</td>\n",
       "    </tr>\n",
       "    <tr>\n",
       "      <th>1</th>\n",
       "      <td>2</td>\n",
       "      <td>Гренкин А.В</td>\n",
       "      <td>2023-05-11</td>\n",
       "      <td>NaN</td>\n",
       "      <td>1</td>\n",
       "      <td>30000.0</td>\n",
       "    </tr>\n",
       "    <tr>\n",
       "      <th>2</th>\n",
       "      <td>3</td>\n",
       "      <td>Кукарево П.О</td>\n",
       "      <td>2024-06-12</td>\n",
       "      <td>NaN</td>\n",
       "      <td>0</td>\n",
       "      <td>30000.0</td>\n",
       "    </tr>\n",
       "    <tr>\n",
       "      <th>3</th>\n",
       "      <td>4</td>\n",
       "      <td>Виндовс О.С</td>\n",
       "      <td>2017-01-15</td>\n",
       "      <td>NaN</td>\n",
       "      <td>7</td>\n",
       "      <td>24000.0</td>\n",
       "    </tr>\n",
       "    <tr>\n",
       "      <th>4</th>\n",
       "      <td>5</td>\n",
       "      <td>Давкан Н.С</td>\n",
       "      <td>2018-04-16</td>\n",
       "      <td>NaN</td>\n",
       "      <td>6</td>\n",
       "      <td>24000.0</td>\n",
       "    </tr>\n",
       "    <tr>\n",
       "      <th>5</th>\n",
       "      <td>6</td>\n",
       "      <td>Кириешка Н.Н</td>\n",
       "      <td>2020-05-17</td>\n",
       "      <td>NaN</td>\n",
       "      <td>4</td>\n",
       "      <td>24000.0</td>\n",
       "    </tr>\n",
       "    <tr>\n",
       "      <th>6</th>\n",
       "      <td>7</td>\n",
       "      <td>Ловкий К.Р</td>\n",
       "      <td>2012-12-20</td>\n",
       "      <td>NaN</td>\n",
       "      <td>11</td>\n",
       "      <td>18000.0</td>\n",
       "    </tr>\n",
       "    <tr>\n",
       "      <th>7</th>\n",
       "      <td>8</td>\n",
       "      <td>Физрук А.Г</td>\n",
       "      <td>2015-05-16</td>\n",
       "      <td>NaN</td>\n",
       "      <td>9</td>\n",
       "      <td>18000.0</td>\n",
       "    </tr>\n",
       "    <tr>\n",
       "      <th>8</th>\n",
       "      <td>9</td>\n",
       "      <td>Абвгд Е.Ё</td>\n",
       "      <td>2005-01-10</td>\n",
       "      <td>NaN</td>\n",
       "      <td>19</td>\n",
       "      <td>0.0</td>\n",
       "    </tr>\n",
       "    <tr>\n",
       "      <th>9</th>\n",
       "      <td>10</td>\n",
       "      <td>Первыйкласс А.Р</td>\n",
       "      <td>2004-01-10</td>\n",
       "      <td>NaN</td>\n",
       "      <td>20</td>\n",
       "      <td>0.0</td>\n",
       "    </tr>\n",
       "  </tbody>\n",
       "</table>\n",
       "</div>"
      ]
     },
     "execution_count": 48,
     "metadata": {},
     "output_type": "execute_result"
    }
   ],
   "execution_count": 48
  },
  {
   "metadata": {
    "ExecuteTime": {
     "end_time": "2024-12-04T15:02:15.635868Z",
     "start_time": "2024-12-04T15:02:15.633309Z"
    }
   },
   "cell_type": "code",
   "source": [
    "total_summa_posobia = df['posobie'].sum()\n",
    "print(total_summa_posobia)"
   ],
   "id": "74ddf5ab59ef69b3",
   "outputs": [
    {
     "name": "stdout",
     "output_type": "stream",
     "text": [
      "198000.0\n"
     ]
    }
   ],
   "execution_count": 49
  },
  {
   "metadata": {
    "ExecuteTime": {
     "end_time": "2024-12-04T15:02:15.686034Z",
     "start_time": "2024-12-04T15:02:15.683473Z"
    }
   },
   "cell_type": "code",
   "source": [
    "average_age = df['age'].mean()\n",
    "print(average_age)"
   ],
   "id": "bdda961a8b8937f1",
   "outputs": [
    {
     "name": "stdout",
     "output_type": "stream",
     "text": [
      "7.9\n"
     ]
    }
   ],
   "execution_count": 50
  },
  {
   "metadata": {
    "ExecuteTime": {
     "end_time": "2024-12-04T15:02:15.739972Z",
     "start_time": "2024-12-04T15:02:15.736555Z"
    }
   },
   "cell_type": "code",
   "source": [
    "count_children_above_8 = df[df['age'] > 8].shape[0]\n",
    "print(count_children_above_8)"
   ],
   "id": "d30815384bac5300",
   "outputs": [
    {
     "name": "stdout",
     "output_type": "stream",
     "text": [
      "4\n"
     ]
    }
   ],
   "execution_count": 51
  },
  {
   "metadata": {
    "ExecuteTime": {
     "end_time": "2024-12-04T15:02:15.783610Z",
     "start_time": "2024-12-04T15:02:15.778488Z"
    }
   },
   "cell_type": "code",
   "source": [
    "grouped_df = df.groupby('Fio')['posobie'].sum().reset_index()\n",
    "print(grouped_df)"
   ],
   "id": "8c31c32596e78fbb",
   "outputs": [
    {
     "name": "stdout",
     "output_type": "stream",
     "text": [
      "               Fio  posobie\n",
      "0        Абвгд Е.Ё      0.0\n",
      "1      Виндовс О.С  24000.0\n",
      "2      Гренкин А.В  30000.0\n",
      "3       Давкан Н.С  24000.0\n",
      "4     Кириешка Н.Н  24000.0\n",
      "5     Кукарево П.О  30000.0\n",
      "6       Ловкий К.Р  18000.0\n",
      "7  Первыйкласс А.Р      0.0\n",
      "8       Пупкин В.Ф  30000.0\n",
      "9       Физрук А.Г  18000.0\n"
     ]
    }
   ],
   "execution_count": 52
  },
  {
   "metadata": {
    "ExecuteTime": {
     "end_time": "2024-12-04T15:02:15.796462Z",
     "start_time": "2024-12-04T15:02:15.791317Z"
    }
   },
   "cell_type": "code",
   "source": [
    "df['birthDate'] = pd.to_datetime(df['birthDate'], format='%d.%m.%Y')\n",
    "df['Год-Месяц'] = df['birthDate'].dt.strftime('%Y-%m')\n",
    "\n",
    "grouped_df = df.groupby(['Год-Месяц'])['posobie'].sum().reset_index()\n",
    "print(grouped_df)"
   ],
   "id": "9f257afed37ef2bf",
   "outputs": [
    {
     "name": "stdout",
     "output_type": "stream",
     "text": [
      "  Год-Месяц  posobie\n",
      "0   2004-01      0.0\n",
      "1   2005-01      0.0\n",
      "2   2012-12  18000.0\n",
      "3   2015-05  18000.0\n",
      "4   2017-01  24000.0\n",
      "5   2018-04  24000.0\n",
      "6   2020-05  24000.0\n",
      "7   2022-05  30000.0\n",
      "8   2023-05  30000.0\n",
      "9   2024-06  30000.0\n"
     ]
    }
   ],
   "execution_count": 53
  }
 ],
 "metadata": {
  "kernelspec": {
   "display_name": "Python 3",
   "language": "python",
   "name": "python3"
  },
  "language_info": {
   "codemirror_mode": {
    "name": "ipython",
    "version": 2
   },
   "file_extension": ".py",
   "mimetype": "text/x-python",
   "name": "python",
   "nbconvert_exporter": "python",
   "pygments_lexer": "ipython2",
   "version": "2.7.6"
  }
 },
 "nbformat": 4,
 "nbformat_minor": 5
}
